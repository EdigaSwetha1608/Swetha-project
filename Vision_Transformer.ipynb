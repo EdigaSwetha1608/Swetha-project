{
  "cells": [
    {
      "cell_type": "markdown",
      "metadata": {
        "id": "view-in-github",
        "colab_type": "text"
      },
      "source": [
        "<a href=\"https://colab.research.google.com/github/EdigaSwetha1608/Swetha-project/blob/main/Vision_Transformer.ipynb\" target=\"_parent\"><img src=\"https://colab.research.google.com/assets/colab-badge.svg\" alt=\"Open In Colab\"/></a>"
      ]
    },
    {
      "cell_type": "code",
      "execution_count": null,
      "metadata": {
        "colab": {
          "base_uri": "https://localhost:8080/"
        },
        "id": "R3Sf6TKsixvK",
        "outputId": "268853dc-4d83-4f8d-e4b5-aaccffecc53c"
      },
      "outputs": [
        {
          "name": "stdout",
          "output_type": "stream",
          "text": [
            "Collecting tensorflow==2.8.0\n",
            "  Downloading tensorflow-2.8.0-cp310-cp310-manylinux2010_x86_64.whl.metadata (2.9 kB)\n",
            "Requirement already satisfied: absl-py>=0.4.0 in /usr/local/lib/python3.10/dist-packages (from tensorflow==2.8.0) (1.4.0)\n",
            "Requirement already satisfied: astunparse>=1.6.0 in /usr/local/lib/python3.10/dist-packages (from tensorflow==2.8.0) (1.6.3)\n",
            "Requirement already satisfied: flatbuffers>=1.12 in /usr/local/lib/python3.10/dist-packages (from tensorflow==2.8.0) (24.3.25)\n",
            "Requirement already satisfied: gast>=0.2.1 in /usr/local/lib/python3.10/dist-packages (from tensorflow==2.8.0) (0.6.0)\n",
            "Requirement already satisfied: google-pasta>=0.1.1 in /usr/local/lib/python3.10/dist-packages (from tensorflow==2.8.0) (0.2.0)\n",
            "Requirement already satisfied: h5py>=2.9.0 in /usr/local/lib/python3.10/dist-packages (from tensorflow==2.8.0) (3.11.0)\n",
            "Collecting keras-preprocessing>=1.1.1 (from tensorflow==2.8.0)\n",
            "  Downloading Keras_Preprocessing-1.1.2-py2.py3-none-any.whl.metadata (1.9 kB)\n",
            "Requirement already satisfied: libclang>=9.0.1 in /usr/local/lib/python3.10/dist-packages (from tensorflow==2.8.0) (18.1.1)\n",
            "Requirement already satisfied: numpy>=1.20 in /usr/local/lib/python3.10/dist-packages (from tensorflow==2.8.0) (1.25.2)\n",
            "Requirement already satisfied: opt-einsum>=2.3.2 in /usr/local/lib/python3.10/dist-packages (from tensorflow==2.8.0) (3.3.0)\n",
            "Requirement already satisfied: protobuf>=3.9.2 in /usr/local/lib/python3.10/dist-packages (from tensorflow==2.8.0) (3.20.3)\n",
            "Requirement already satisfied: setuptools in /usr/local/lib/python3.10/dist-packages (from tensorflow==2.8.0) (71.0.4)\n",
            "Requirement already satisfied: six>=1.12.0 in /usr/local/lib/python3.10/dist-packages (from tensorflow==2.8.0) (1.16.0)\n",
            "Requirement already satisfied: termcolor>=1.1.0 in /usr/local/lib/python3.10/dist-packages (from tensorflow==2.8.0) (2.4.0)\n",
            "Requirement already satisfied: typing-extensions>=3.6.6 in /usr/local/lib/python3.10/dist-packages (from tensorflow==2.8.0) (4.12.2)\n",
            "Requirement already satisfied: wrapt>=1.11.0 in /usr/local/lib/python3.10/dist-packages (from tensorflow==2.8.0) (1.14.1)\n",
            "Collecting tensorboard<2.9,>=2.8 (from tensorflow==2.8.0)\n",
            "  Downloading tensorboard-2.8.0-py3-none-any.whl.metadata (1.9 kB)\n",
            "Collecting tf-estimator-nightly==2.8.0.dev2021122109 (from tensorflow==2.8.0)\n",
            "  Downloading tf_estimator_nightly-2.8.0.dev2021122109-py2.py3-none-any.whl.metadata (1.2 kB)\n",
            "Collecting keras<2.9,>=2.8.0rc0 (from tensorflow==2.8.0)\n",
            "  Downloading keras-2.8.0-py2.py3-none-any.whl.metadata (1.3 kB)\n",
            "Requirement already satisfied: tensorflow-io-gcs-filesystem>=0.23.1 in /usr/local/lib/python3.10/dist-packages (from tensorflow==2.8.0) (0.37.1)\n",
            "Requirement already satisfied: grpcio<2.0,>=1.24.3 in /usr/local/lib/python3.10/dist-packages (from tensorflow==2.8.0) (1.64.1)\n",
            "Requirement already satisfied: wheel<1.0,>=0.23.0 in /usr/local/lib/python3.10/dist-packages (from astunparse>=1.6.0->tensorflow==2.8.0) (0.43.0)\n",
            "Requirement already satisfied: google-auth<3,>=1.6.3 in /usr/local/lib/python3.10/dist-packages (from tensorboard<2.9,>=2.8->tensorflow==2.8.0) (2.27.0)\n",
            "Collecting google-auth-oauthlib<0.5,>=0.4.1 (from tensorboard<2.9,>=2.8->tensorflow==2.8.0)\n",
            "  Downloading google_auth_oauthlib-0.4.6-py2.py3-none-any.whl.metadata (2.7 kB)\n",
            "Requirement already satisfied: markdown>=2.6.8 in /usr/local/lib/python3.10/dist-packages (from tensorboard<2.9,>=2.8->tensorflow==2.8.0) (3.6)\n",
            "Requirement already satisfied: requests<3,>=2.21.0 in /usr/local/lib/python3.10/dist-packages (from tensorboard<2.9,>=2.8->tensorflow==2.8.0) (2.31.0)\n",
            "Collecting tensorboard-data-server<0.7.0,>=0.6.0 (from tensorboard<2.9,>=2.8->tensorflow==2.8.0)\n",
            "  Downloading tensorboard_data_server-0.6.1-py3-none-manylinux2010_x86_64.whl.metadata (1.1 kB)\n",
            "Collecting tensorboard-plugin-wit>=1.6.0 (from tensorboard<2.9,>=2.8->tensorflow==2.8.0)\n",
            "  Downloading tensorboard_plugin_wit-1.8.1-py3-none-any.whl.metadata (873 bytes)\n",
            "Requirement already satisfied: werkzeug>=0.11.15 in /usr/local/lib/python3.10/dist-packages (from tensorboard<2.9,>=2.8->tensorflow==2.8.0) (3.0.3)\n",
            "Requirement already satisfied: cachetools<6.0,>=2.0.0 in /usr/local/lib/python3.10/dist-packages (from google-auth<3,>=1.6.3->tensorboard<2.9,>=2.8->tensorflow==2.8.0) (5.4.0)\n",
            "Requirement already satisfied: pyasn1-modules>=0.2.1 in /usr/local/lib/python3.10/dist-packages (from google-auth<3,>=1.6.3->tensorboard<2.9,>=2.8->tensorflow==2.8.0) (0.4.0)\n",
            "Requirement already satisfied: rsa<5,>=3.1.4 in /usr/local/lib/python3.10/dist-packages (from google-auth<3,>=1.6.3->tensorboard<2.9,>=2.8->tensorflow==2.8.0) (4.9)\n",
            "Requirement already satisfied: requests-oauthlib>=0.7.0 in /usr/local/lib/python3.10/dist-packages (from google-auth-oauthlib<0.5,>=0.4.1->tensorboard<2.9,>=2.8->tensorflow==2.8.0) (1.3.1)\n",
            "Requirement already satisfied: charset-normalizer<4,>=2 in /usr/local/lib/python3.10/dist-packages (from requests<3,>=2.21.0->tensorboard<2.9,>=2.8->tensorflow==2.8.0) (3.3.2)\n",
            "Requirement already satisfied: idna<4,>=2.5 in /usr/local/lib/python3.10/dist-packages (from requests<3,>=2.21.0->tensorboard<2.9,>=2.8->tensorflow==2.8.0) (3.7)\n",
            "Requirement already satisfied: urllib3<3,>=1.21.1 in /usr/local/lib/python3.10/dist-packages (from requests<3,>=2.21.0->tensorboard<2.9,>=2.8->tensorflow==2.8.0) (2.0.7)\n",
            "Requirement already satisfied: certifi>=2017.4.17 in /usr/local/lib/python3.10/dist-packages (from requests<3,>=2.21.0->tensorboard<2.9,>=2.8->tensorflow==2.8.0) (2024.7.4)\n",
            "Requirement already satisfied: MarkupSafe>=2.1.1 in /usr/local/lib/python3.10/dist-packages (from werkzeug>=0.11.15->tensorboard<2.9,>=2.8->tensorflow==2.8.0) (2.1.5)\n",
            "Requirement already satisfied: pyasn1<0.7.0,>=0.4.6 in /usr/local/lib/python3.10/dist-packages (from pyasn1-modules>=0.2.1->google-auth<3,>=1.6.3->tensorboard<2.9,>=2.8->tensorflow==2.8.0) (0.6.0)\n",
            "Requirement already satisfied: oauthlib>=3.0.0 in /usr/local/lib/python3.10/dist-packages (from requests-oauthlib>=0.7.0->google-auth-oauthlib<0.5,>=0.4.1->tensorboard<2.9,>=2.8->tensorflow==2.8.0) (3.2.2)\n",
            "Downloading tensorflow-2.8.0-cp310-cp310-manylinux2010_x86_64.whl (497.6 MB)\n",
            "\u001b[2K   \u001b[90m━━━━━━━━━━━━━━━━━━━━━━━━━━━━━━━━━━━━━━━━\u001b[0m \u001b[32m497.6/497.6 MB\u001b[0m \u001b[31m3.4 MB/s\u001b[0m eta \u001b[36m0:00:00\u001b[0m\n",
            "\u001b[?25hDownloading tf_estimator_nightly-2.8.0.dev2021122109-py2.py3-none-any.whl (462 kB)\n",
            "\u001b[2K   \u001b[90m━━━━━━━━━━━━━━━━━━━━━━━━━━━━━━━━━━━━━━━━\u001b[0m \u001b[32m462.5/462.5 kB\u001b[0m \u001b[31m11.3 MB/s\u001b[0m eta \u001b[36m0:00:00\u001b[0m\n",
            "\u001b[?25hDownloading keras-2.8.0-py2.py3-none-any.whl (1.4 MB)\n",
            "\u001b[2K   \u001b[90m━━━━━━━━━━━━━━━━━━━━━━━━━━━━━━━━━━━━━━━━\u001b[0m \u001b[32m1.4/1.4 MB\u001b[0m \u001b[31m43.4 MB/s\u001b[0m eta \u001b[36m0:00:00\u001b[0m\n",
            "\u001b[?25hDownloading Keras_Preprocessing-1.1.2-py2.py3-none-any.whl (42 kB)\n",
            "\u001b[2K   \u001b[90m━━━━━━━━━━━━━━━━━━━━━━━━━━━━━━━━━━━━━━━━\u001b[0m \u001b[32m42.6/42.6 kB\u001b[0m \u001b[31m2.7 MB/s\u001b[0m eta \u001b[36m0:00:00\u001b[0m\n",
            "\u001b[?25hDownloading tensorboard-2.8.0-py3-none-any.whl (5.8 MB)\n",
            "\u001b[2K   \u001b[90m━━━━━━━━━━━━━━━━━━━━━━━━━━━━━━━━━━━━━━━━\u001b[0m \u001b[32m5.8/5.8 MB\u001b[0m \u001b[31m57.3 MB/s\u001b[0m eta \u001b[36m0:00:00\u001b[0m\n",
            "\u001b[?25hDownloading google_auth_oauthlib-0.4.6-py2.py3-none-any.whl (18 kB)\n",
            "Downloading tensorboard_data_server-0.6.1-py3-none-manylinux2010_x86_64.whl (4.9 MB)\n",
            "\u001b[2K   \u001b[90m━━━━━━━━━━━━━━━━━━━━━━━━━━━━━━━━━━━━━━━━\u001b[0m \u001b[32m4.9/4.9 MB\u001b[0m \u001b[31m63.4 MB/s\u001b[0m eta \u001b[36m0:00:00\u001b[0m\n",
            "\u001b[?25hDownloading tensorboard_plugin_wit-1.8.1-py3-none-any.whl (781 kB)\n",
            "\u001b[2K   \u001b[90m━━━━━━━━━━━━━━━━━━━━━━━━━━━━━━━━━━━━━━━━\u001b[0m \u001b[32m781.3/781.3 kB\u001b[0m \u001b[31m37.4 MB/s\u001b[0m eta \u001b[36m0:00:00\u001b[0m\n",
            "\u001b[?25hInstalling collected packages: tf-estimator-nightly, tensorboard-plugin-wit, keras, tensorboard-data-server, keras-preprocessing, google-auth-oauthlib, tensorboard, tensorflow\n",
            "  Attempting uninstall: keras\n",
            "    Found existing installation: keras 2.15.0\n",
            "    Uninstalling keras-2.15.0:\n",
            "      Successfully uninstalled keras-2.15.0\n",
            "  Attempting uninstall: tensorboard-data-server\n",
            "    Found existing installation: tensorboard-data-server 0.7.2\n",
            "    Uninstalling tensorboard-data-server-0.7.2:\n",
            "      Successfully uninstalled tensorboard-data-server-0.7.2\n",
            "  Attempting uninstall: google-auth-oauthlib\n",
            "    Found existing installation: google-auth-oauthlib 1.2.1\n",
            "    Uninstalling google-auth-oauthlib-1.2.1:\n",
            "      Successfully uninstalled google-auth-oauthlib-1.2.1\n",
            "  Attempting uninstall: tensorboard\n",
            "    Found existing installation: tensorboard 2.15.2\n",
            "    Uninstalling tensorboard-2.15.2:\n",
            "      Successfully uninstalled tensorboard-2.15.2\n",
            "  Attempting uninstall: tensorflow\n",
            "    Found existing installation: tensorflow 2.15.0\n",
            "    Uninstalling tensorflow-2.15.0:\n",
            "      Successfully uninstalled tensorflow-2.15.0\n",
            "\u001b[31mERROR: pip's dependency resolver does not currently take into account all the packages that are installed. This behaviour is the source of the following dependency conflicts.\n",
            "pandas-gbq 0.19.2 requires google-auth-oauthlib>=0.7.0, but you have google-auth-oauthlib 0.4.6 which is incompatible.\n",
            "tf-keras 2.15.1 requires tensorflow<2.16,>=2.15, but you have tensorflow 2.8.0 which is incompatible.\u001b[0m\u001b[31m\n",
            "\u001b[0mSuccessfully installed google-auth-oauthlib-0.4.6 keras-2.8.0 keras-preprocessing-1.1.2 tensorboard-2.8.0 tensorboard-data-server-0.6.1 tensorboard-plugin-wit-1.8.1 tensorflow-2.8.0 tf-estimator-nightly-2.8.0.dev2021122109\n",
            "Requirement already satisfied: keras==2.8.0 in /usr/local/lib/python3.10/dist-packages (2.8.0)\n",
            "Collecting tensorflow-addons==0.17.0\n",
            "  Downloading tensorflow_addons-0.17.0-cp310-cp310-manylinux_2_17_x86_64.manylinux2014_x86_64.whl.metadata (1.8 kB)\n",
            "Requirement already satisfied: packaging in /usr/local/lib/python3.10/dist-packages (from tensorflow-addons==0.17.0) (24.1)\n",
            "Requirement already satisfied: typeguard>=2.7 in /usr/local/lib/python3.10/dist-packages (from tensorflow-addons==0.17.0) (4.3.0)\n",
            "Requirement already satisfied: typing-extensions>=4.10.0 in /usr/local/lib/python3.10/dist-packages (from typeguard>=2.7->tensorflow-addons==0.17.0) (4.12.2)\n",
            "Downloading tensorflow_addons-0.17.0-cp310-cp310-manylinux_2_17_x86_64.manylinux2014_x86_64.whl (1.1 MB)\n",
            "\u001b[2K   \u001b[90m━━━━━━━━━━━━━━━━━━━━━━━━━━━━━━━━━━━━━━━━\u001b[0m \u001b[32m1.1/1.1 MB\u001b[0m \u001b[31m17.6 MB/s\u001b[0m eta \u001b[36m0:00:00\u001b[0m\n",
            "\u001b[?25hInstalling collected packages: tensorflow-addons\n",
            "Successfully installed tensorflow-addons-0.17.0\n"
          ]
        }
      ],
      "source": [
        "!pip install tensorflow==2.8.0\n",
        "!pip install keras==2.8.0\n",
        "!pip install tensorflow-addons==0.17.0"
      ]
    },
    {
      "cell_type": "code",
      "execution_count": null,
      "metadata": {
        "id": "j-gNOWfRjbOj"
      },
      "outputs": [],
      "source": [
        "#import libraries\n",
        "import numpy as np\n",
        "import tensorflow as tf\n",
        "from tensorflow import keras\n",
        "from tensorflow.keras import layers\n",
        "import tensorflow_addons as tfa"
      ]
    },
    {
      "cell_type": "code",
      "execution_count": null,
      "metadata": {
        "colab": {
          "base_uri": "https://localhost:8080/"
        },
        "id": "0EAj3GySjdjo",
        "outputId": "30deb0f6-540c-4b6e-f04a-d9c5bf4a964a"
      },
      "outputs": [
        {
          "name": "stdout",
          "output_type": "stream",
          "text": [
            "Downloading data from https://www.cs.toronto.edu/~kriz/cifar-10-python.tar.gz\n",
            "170500096/170498071 [==============================] - 4s 0us/step\n",
            "170508288/170498071 [==============================] - 4s 0us/step\n",
            "x_train shape: (50000, 32, 32, 3) - y_train shape: (50000, 1)\n",
            "x_test shape: (10000, 32, 32, 3) - y_test shape: (10000, 1)\n"
          ]
        }
      ],
      "source": [
        "num_classes=10\n",
        "input_shape=(32,32,3)\n",
        "(x_train,y_train),(x_test,y_test) = keras.datasets.cifar10.load_data()\n",
        "print(f\"x_train shape: {x_train.shape} - y_train shape: {y_train.shape}\")\n",
        "print(f\"x_test shape: {x_test.shape} - y_test shape: {y_test.shape}\")"
      ]
    },
    {
      "cell_type": "code",
      "execution_count": null,
      "metadata": {
        "id": "yMxq_mMJjj7s"
      },
      "outputs": [],
      "source": [
        "x_train = x_train[:500]\n",
        "y_train = y_train[:500]\n",
        "x_test = x_test[:500]\n",
        "y_test = y_test[:500]"
      ]
    },
    {
      "cell_type": "code",
      "execution_count": null,
      "metadata": {
        "id": "chyGvXirjo2o"
      },
      "outputs": [],
      "source": [
        "learning_rate = 0.001\n",
        "weight_decay = 0.0001#1e-4\n",
        "batch_size = 256\n",
        "num_epochs = 40  #40\n",
        "image_size = 72 #resize the input image to this size\n",
        "patch_size = 6 #size of the patches to be extracted from the input images\n",
        "num_patches = (image_size // patch_size) ** 2\n",
        "num_heads = 4\n",
        "projection_dim = 64\n",
        "transformer_units = [\n",
        "    projection_dim * 2,\n",
        "    projection_dim\n",
        "] #size of the transformer layers\n",
        "transformer_layers = 8\n",
        "mlp_head_units = [2048, 1024] #size of the dense layers of the final classifiers"
      ]
    },
    {
      "cell_type": "code",
      "execution_count": null,
      "metadata": {
        "id": "Q7iKRicAjtpE"
      },
      "outputs": [],
      "source": [
        "data_augumentation = keras.Sequential(\n",
        "    [\n",
        "    layers.Normalization(),\n",
        "    layers.Resizing(image_size, image_size),\n",
        "    layers.RandomFlip(\"horizontal\"),\n",
        "    layers.RandomRotation(factor=0.02),\n",
        "    layers.RandomZoom(height_factor=0.2, width_factor=0.2)\n",
        "    ],\n",
        "    name=\"data_augmentation\"\n",
        ")\n",
        "data_augumentation.layers[0].adapt(x_train)"
      ]
    },
    {
      "cell_type": "code",
      "execution_count": null,
      "metadata": {
        "id": "oCNJMIO2jyw_"
      },
      "outputs": [],
      "source": [
        "def mlp(x,hidden_units,dropout_rate):\n",
        "    for units in hidden_units:\n",
        "        x = layers.Dense(units,activation=tf.nn.gelu)(x)\n",
        "        x = layers.Dropout(dropout_rate)(x)\n",
        "    return x"
      ]
    },
    {
      "cell_type": "code",
      "execution_count": null,
      "metadata": {
        "id": "O5xM9Mu8kDx8"
      },
      "outputs": [],
      "source": [
        "class Patches(layers.Layer):\n",
        "    def __init__(self,patch_size):\n",
        "        super(Patches,self).__init__()\n",
        "        self.patch_size = patch_size\n",
        "\n",
        "\n",
        "    def call(self,images):\n",
        "        batch_size = tf.shape(images)[0]\n",
        "        patches = tf.image.extract_patches(\n",
        "            images = images,\n",
        "            sizes = [1,self.patch_size,self.patch_size,1],\n",
        "            strides = [1,self.patch_size,self.patch_size,1],\n",
        "            rates = [1,1,1,1],\n",
        "            padding = \"VALID\"\n",
        "        )\n",
        "        patch_dims = patches.shape[-1]\n",
        "        patches = tf.reshape(patches,shape=(batch_size, -1, patch_dims))\n",
        "        return patches"
      ]
    },
    {
      "cell_type": "code",
      "execution_count": null,
      "metadata": {
        "colab": {
          "base_uri": "https://localhost:8080/",
          "height": 625
        },
        "id": "fDQ8xqf6kGHq",
        "outputId": "2fa36a4f-ea71-483b-a7b2-1d8f36eed4c6"
      },
      "outputs": [
        {
          "data": {
            "image/png": "[encoded data removed]",
            "text/plain": [
              "<Figure size 1200x800 with 10 Axes>"
            ]
          },
          "metadata": {},
          "output_type": "display_data"
        }
      ],
      "source": [
        "import matplotlib.pyplot as plt\n",
        "import numpy as np\n",
        "import tensorflow as tf\n",
        "(x_train, y_train), (_, _) = tf.keras.datasets.cifar10.load_data()\n",
        "\n",
        "class_names = ['airplane', 'automobile', 'bird', 'cat', 'deer', 'dog', 'frog', 'horse', 'ship', 'truck']\n",
        "\n",
        "images_per_class = {}\n",
        "\n",
        "for class_id, class_name in enumerate(class_names):\n",
        "    class_indices = np.where(y_train == class_id)[0]\n",
        "\n",
        "    sample_image = x_train[np.random.choice(class_indices)]\n",
        "\n",
        "    images_per_class[class_name] = sample_image\n",
        "\n",
        "plt.figure(figsize=(12, 8))\n",
        "for i, (class_name, image) in enumerate(images_per_class.items()):\n",
        "    ax = plt.subplot(2, 5, i + 1)\n",
        "    plt.imshow(image)\n",
        "    plt.title(class_name)\n",
        "    plt.axis(\"off\")\n",
        "\n",
        "plt.tight_layout()\n",
        "plt.show()"
      ]
    },
    {
      "cell_type": "code",
      "execution_count": null,
      "metadata": {
        "id": "xOpXR8EVkQKL"
      },
      "outputs": [],
      "source": [
        "class PatchEncoder(layers.Layer):\n",
        "    def __init__(self,num_patches,projection_dim):\n",
        "        super(PatchEncoder,self).__init__()\n",
        "        self.num_patches = num_patches\n",
        "        self.projection = layers.Dense(units=projection_dim)\n",
        "        self.position_embedding = layers.Embedding(\n",
        "            input_dim = num_patches,\n",
        "            output_dim = projection_dim\n",
        "        )\n",
        "    def call(self,patches):\n",
        "        positions = tf.range(start=0,limit=self.num_patches,delta=1)\n",
        "        encoded = self.projection(patches) + self.position_embedding(positions)\n",
        "        return encoded"
      ]
    },
    {
      "cell_type": "code",
      "execution_count": null,
      "metadata": {
        "id": "4hIrwal-kVhE"
      },
      "outputs": [],
      "source": [
        "def create_vit_classifier():\n",
        "  inputs = layers.Input(shape=input_shape)\n",
        "  #Augument data\n",
        "  augmented = data_augumentation(inputs)\n",
        "  patches = Patches(patch_size)(augmented)\n",
        "  #encode patches\n",
        "  encoded_patches = PatchEncoder(num_patches,projection_dim)(patches)\n",
        "\n",
        "\n",
        "  #create multiple layers of the transformer block\n",
        "  for _ in range(transformer_layers):\n",
        "    # layer normalization\n",
        "    x1 = layers.LayerNormalization(epsilon=1e-6)(encoded_patches)\n",
        "    #create multi-head attention layer\n",
        "    attention_output = layers.MultiHeadAttention(\n",
        "        num_heads = num_heads,\n",
        "        key_dim = projection_dim,\n",
        "        dropout = 0.1\n",
        "    )(x1,x1)\n",
        "    #add skip connection1\n",
        "    x2 = layers.Add()([attention_output,encoded_patches])\n",
        "    #layer normalization 2\n",
        "    x3 = layers.LayerNormalization(epsilon=1e-6)(x2)\n",
        "    #feed forward block mlp\n",
        "    x3 = mlp(x3,hidden_units=transformer_units,dropout_rate=0.1)\n",
        "    #add skip connection2\n",
        "    encoded_patches = layers.Add()([x3,x2])\n",
        "\n",
        "    #create a [batch_size,projection_dim] tensor\n",
        "    representation = layers.LayerNormalization(epsilon=1e-6)(encoded_patches)\n",
        "    representation = layers.Flatten()(representation)\n",
        "    representation = layers.Dropout(0.5)(representation)\n",
        "\n",
        "    #Add mlp\n",
        "    features = mlp(representation,hidden_units=mlp_head_units,dropout_rate=0.5)\n",
        "    #Classify outputs\n",
        "    logits = layers.Dense(num_classes)(features)\n",
        "    #create model\n",
        "    model = keras.Model(inputs=inputs,outputs=logits)\n",
        "    return model"
      ]
    },
    {
      "cell_type": "code",
      "execution_count": null,
      "metadata": {
        "id": "oYmgHl8xkap2"
      },
      "outputs": [],
      "source": [
        "def run_experiment(model):\n",
        "\n",
        "  optimizer = tfa.optimizers.AdamW(\n",
        "      learning_rate = learning_rate,\n",
        "      weight_decay = weight_decay\n",
        "  )\n",
        "\n",
        "  model.compile(\n",
        "      optimizer = optimizer,\n",
        "      loss = keras.losses.SparseCategoricalCrossentropy(from_logits=True),\n",
        "      metrics = [\n",
        "          keras.metrics.SparseCategoricalAccuracy(name=\"accuracy\"),\n",
        "          keras.metrics.SparseTopKCategoricalAccuracy(5,name=\"top_5_accuracy\"),\n",
        "      ],\n",
        "  )\n",
        "  checkpoint_filepath = \"./tmp/checkpoint\"\n",
        "  checkpoint_callback = keras.callbacks.ModelCheckpoint(\n",
        "       checkpoint_filepath,\n",
        "       monitor = \"val_accuracy\",\n",
        "       save_best_only = True,\n",
        "       save_weights_only = True,\n",
        "  )\n",
        "\n",
        "  history = model.fit(\n",
        "      x = x_train,\n",
        "      y = y_train,\n",
        "      batch_size = batch_size,\n",
        "      epochs = num_epochs,\n",
        "      validation_split = 0.1,\n",
        "      callbacks = [checkpoint_callback],\n",
        "  )\n",
        "  model.load_weights(checkpoint_filepath)\n",
        "  _, accuracy, top_5_accuracy= model.evaluate(x_test,y_test)\n",
        "  print(f\"Test accuracy: {round(accuracy*100,2)}%\")\n",
        "  print(f\"Test top-5 accuracy: {round(top_5_accuracy*100,2)}%\")\n",
        "\n",
        "  return history"
      ]
    },
    {
      "cell_type": "code",
      "execution_count": null,
      "metadata": {
        "colab": {
          "background_save": true,
          "base_uri": "https://localhost:8080/"
        },
        "id": "k7nmXWACkcx7",
        "outputId": "187ca825-9b43-463c-fbe9-15da68321e50"
      },
      "outputs": [
        {
          "name": "stdout",
          "output_type": "stream",
          "text": [
            "Epoch 1/40\n",
            "176/176 [==============================] - 735s 4s/step - loss: 2.0964 - accuracy: 0.3101 - top_5_accuracy: 0.8037 - val_loss: 1.5401 - val_accuracy: 0.4450 - val_top_5_accuracy: 0.9070\n",
            "Epoch 2/40\n",
            "176/176 [==============================] - 711s 4s/step - loss: 1.6237 - accuracy: 0.4134 - top_5_accuracy: 0.8888 - val_loss: 1.3621 - val_accuracy: 0.5202 - val_top_5_accuracy: 0.9324\n",
            "Epoch 3/40\n",
            "176/176 [==============================] - 717s 4s/step - loss: 1.4769 - accuracy: 0.4692 - top_5_accuracy: 0.9138 - val_loss: 1.2362 - val_accuracy: 0.5532 - val_top_5_accuracy: 0.9488\n",
            "Epoch 4/40\n",
            "176/176 [==============================] - 719s 4s/step - loss: 1.3788 - accuracy: 0.5065 - top_5_accuracy: 0.9279 - val_loss: 1.1548 - val_accuracy: 0.5790 - val_top_5_accuracy: 0.9548\n",
            "Epoch 5/40\n",
            "176/176 [==============================] - 723s 4s/step - loss: 1.3039 - accuracy: 0.5355 - top_5_accuracy: 0.9387 - val_loss: 1.0890 - val_accuracy: 0.6116 - val_top_5_accuracy: 0.9596\n",
            "Epoch 6/40\n",
            "176/176 [==============================] - 720s 4s/step - loss: 1.2645 - accuracy: 0.5503 - top_5_accuracy: 0.9418 - val_loss: 1.0840 - val_accuracy: 0.6074 - val_top_5_accuracy: 0.9602\n",
            "Epoch 7/40\n",
            "176/176 [==============================] - 715s 4s/step - loss: 1.2185 - accuracy: 0.5663 - top_5_accuracy: 0.9478 - val_loss: 1.0304 - val_accuracy: 0.6476 - val_top_5_accuracy: 0.9646\n",
            "Epoch 8/40\n",
            "176/176 [==============================] - 731s 4s/step - loss: 1.1793 - accuracy: 0.5817 - top_5_accuracy: 0.9507 - val_loss: 0.9971 - val_accuracy: 0.6512 - val_top_5_accuracy: 0.9680\n",
            "Epoch 9/40\n",
            "176/176 [==============================] - 729s 4s/step - loss: 1.1461 - accuracy: 0.5941 - top_5_accuracy: 0.9545 - val_loss: 0.9680 - val_accuracy: 0.6700 - val_top_5_accuracy: 0.9714\n",
            "Epoch 10/40\n",
            "176/176 [==============================] - 720s 4s/step - loss: 1.1116 - accuracy: 0.6057 - top_5_accuracy: 0.9580 - val_loss: 0.9515 - val_accuracy: 0.6644 - val_top_5_accuracy: 0.9726\n",
            "Epoch 11/40\n",
            "176/176 [==============================] - 720s 4s/step - loss: 1.0691 - accuracy: 0.6238 - top_5_accuracy: 0.9629 - val_loss: 0.9121 - val_accuracy: 0.6868 - val_top_5_accuracy: 0.9750\n",
            "Epoch 12/40\n",
            "176/176 [==============================] - 725s 4s/step - loss: 1.0394 - accuracy: 0.6338 - top_5_accuracy: 0.9635 - val_loss: 0.8723 - val_accuracy: 0.6946 - val_top_5_accuracy: 0.9762\n",
            "Epoch 13/40\n",
            "176/176 [==============================] - 729s 4s/step - loss: 1.0180 - accuracy: 0.6413 - top_5_accuracy: 0.9648 - val_loss: 0.8871 - val_accuracy: 0.6970 - val_top_5_accuracy: 0.9774\n",
            "Epoch 14/40\n",
            "176/176 [==============================] - 711s 4s/step - loss: 0.9907 - accuracy: 0.6508 - top_5_accuracy: 0.9682 - val_loss: 0.8631 - val_accuracy: 0.6958 - val_top_5_accuracy: 0.9786\n",
            "Epoch 15/40\n",
            "176/176 [==============================] - 709s 4s/step - loss: 0.9579 - accuracy: 0.6644 - top_5_accuracy: 0.9702 - val_loss: 0.8365 - val_accuracy: 0.7112 - val_top_5_accuracy: 0.9786\n",
            "Epoch 16/40\n",
            "176/176 [==============================] - 717s 4s/step - loss: 0.9391 - accuracy: 0.6705 - top_5_accuracy: 0.9721 - val_loss: 0.8076 - val_accuracy: 0.7202 - val_top_5_accuracy: 0.9802\n",
            "Epoch 17/40\n",
            "176/176 [==============================] - 713s 4s/step - loss: 0.9174 - accuracy: 0.6771 - top_5_accuracy: 0.9723 - val_loss: 0.7715 - val_accuracy: 0.7352 - val_top_5_accuracy: 0.9846\n",
            "Epoch 18/40\n",
            "176/176 [==============================] - 715s 4s/step - loss: 0.8900 - accuracy: 0.6869 - top_5_accuracy: 0.9734 - val_loss: 0.7564 - val_accuracy: 0.7384 - val_top_5_accuracy: 0.9832\n",
            "Epoch 19/40\n",
            "176/176 [==============================] - 717s 4s/step - loss: 0.8664 - accuracy: 0.6961 - top_5_accuracy: 0.9760 - val_loss: 0.7535 - val_accuracy: 0.7464 - val_top_5_accuracy: 0.9812\n",
            "Epoch 20/40\n",
            "176/176 [==============================] - 713s 4s/step - loss: 0.8459 - accuracy: 0.7041 - top_5_accuracy: 0.9770 - val_loss: 0.7449 - val_accuracy: 0.7502 - val_top_5_accuracy: 0.9832\n",
            "Epoch 21/40\n",
            "176/176 [==============================] - 719s 4s/step - loss: 0.8278 - accuracy: 0.7106 - top_5_accuracy: 0.9792 - val_loss: 0.7063 - val_accuracy: 0.7558 - val_top_5_accuracy: 0.9846\n",
            "Epoch 22/40\n",
            "176/176 [==============================] - 711s 4s/step - loss: 0.8046 - accuracy: 0.7177 - top_5_accuracy: 0.9800 - val_loss: 0.7087 - val_accuracy: 0.7580 - val_top_5_accuracy: 0.9826\n",
            "Epoch 23/40\n",
            "176/176 [==============================] - 706s 4s/step - loss: 0.7895 - accuracy: 0.7225 - top_5_accuracy: 0.9807 - val_loss: 0.6797 - val_accuracy: 0.7660 - val_top_5_accuracy: 0.9854\n",
            "Epoch 24/40\n",
            "136/176 [======================>.......] - ETA: 2:34 - loss: 0.7672 - accuracy: 0.7285 - top_5_accuracy: 0.9825"
          ]
        }
      ],
      "source": [
        "vit_classifier = create_vit_classifier()\n",
        "history = run_experiment(vit_classifier)"
      ]
    },
    {
      "cell_type": "code",
      "execution_count": null,
      "metadata": {
        "id": "bfqEHBFSkkMi"
      },
      "outputs": [],
      "source": [
        "class_names = [\"airplane\",\"automobile\",\"bird\",\"cat\",\"deer\",\"dog\",\"frog\",\"horse\",\"ship\",\"truck\"]"
      ]
    },
    {
      "cell_type": "code",
      "execution_count": null,
      "metadata": {
        "id": "r4lj-2qnklNX"
      },
      "outputs": [],
      "source": [
        "def img_predict(images,model):\n",
        "  if len(images.shape) == 3:\n",
        "    out = model.predict(images.reshape(-1, *images.shape))\n",
        "  else:\n",
        "    out = model.predict(images)\n",
        "  prediction = np.argmax(out, axis=1)\n",
        "  img_prediction = [class_names[i] for i in prediction]\n",
        "  return img_prediction"
      ]
    },
    {
      "cell_type": "code",
      "execution_count": null,
      "metadata": {
        "id": "fX2zU9Bek0Wr"
      },
      "outputs": [],
      "source": [
        "index = 10\n",
        "plt.imshow(x_test[index])\n",
        "prediction = img_predict(x_test[index],vit_classifier)\n",
        "print(prediction)"
      ]
    },
    {
      "cell_type": "code",
      "execution_count": null,
      "metadata": {
        "id": "SKW_00xQLVxd"
      },
      "outputs": [],
      "source": []
    }
  ],
  "metadata": {
    "colab": {
      "provenance": [],
      "include_colab_link": true
    },
    "kernelspec": {
      "display_name": "Python 3",
      "name": "python3"
    },
    "language_info": {
      "name": "python"
    }
  },
  "nbformat": 4,
  "nbformat_minor": 0
}